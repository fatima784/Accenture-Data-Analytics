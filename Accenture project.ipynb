{
 "cells": [
  {
   "cell_type": "code",
   "execution_count": 2,
   "id": "a704824b",
   "metadata": {},
   "outputs": [],
   "source": [
    "import pandas as pd\n",
    "import matplotlib.pyplot as plt"
   ]
  },
  {
   "cell_type": "code",
   "execution_count": 3,
   "id": "a467e91f",
   "metadata": {},
   "outputs": [],
   "source": [
    "content_df= pd.read_csv(r'C:\\Users\\Admin\\Downloads\\Content.csv', index_col=0)\n",
    "reaction_df = pd.read_csv(r'C:\\Users\\Admin\\Downloads\\Reactions1.csv', index_col=0)\n",
    "reactiontypes_df = pd.read_csv(r'C:\\Users\\Admin\\Downloads\\ReactionTypes1.csv', index_col=0)\n",
    "\n",
    "#content_df = pd.read_csv(\"Content.csv\")\n",
    "#content_df \n",
    "\n"
   ]
  },
  {
   "cell_type": "code",
   "execution_count": 4,
   "id": "2bcddd0f",
   "metadata": {},
   "outputs": [
    {
     "data": {
      "text/html": [
       "<div>\n",
       "<style scoped>\n",
       "    .dataframe tbody tr th:only-of-type {\n",
       "        vertical-align: middle;\n",
       "    }\n",
       "\n",
       "    .dataframe tbody tr th {\n",
       "        vertical-align: top;\n",
       "    }\n",
       "\n",
       "    .dataframe thead th {\n",
       "        text-align: right;\n",
       "    }\n",
       "</style>\n",
       "<table border=\"1\" class=\"dataframe\">\n",
       "  <thead>\n",
       "    <tr style=\"text-align: right;\">\n",
       "      <th></th>\n",
       "      <th>Content ID</th>\n",
       "      <th>Type of Content</th>\n",
       "      <th>Category</th>\n",
       "    </tr>\n",
       "  </thead>\n",
       "  <tbody>\n",
       "    <tr>\n",
       "      <th>0</th>\n",
       "      <td>97522e57-d9ab-4bd6-97bf-c24d952602d2</td>\n",
       "      <td>photo</td>\n",
       "      <td>Studying</td>\n",
       "    </tr>\n",
       "    <tr>\n",
       "      <th>1</th>\n",
       "      <td>9f737e0a-3cdd-4d29-9d24-753f4e3be810</td>\n",
       "      <td>photo</td>\n",
       "      <td>healthy eating</td>\n",
       "    </tr>\n",
       "    <tr>\n",
       "      <th>2</th>\n",
       "      <td>230c4e4d-70c3-461d-b42c-ec09396efb3f</td>\n",
       "      <td>photo</td>\n",
       "      <td>healthy eating</td>\n",
       "    </tr>\n",
       "    <tr>\n",
       "      <th>3</th>\n",
       "      <td>356fff80-da4d-4785-9f43-bc1261031dc6</td>\n",
       "      <td>photo</td>\n",
       "      <td>technology</td>\n",
       "    </tr>\n",
       "    <tr>\n",
       "      <th>4</th>\n",
       "      <td>01ab84dd-6364-4236-abbb-3f237db77180</td>\n",
       "      <td>video</td>\n",
       "      <td>food</td>\n",
       "    </tr>\n",
       "  </tbody>\n",
       "</table>\n",
       "</div>"
      ],
      "text/plain": [
       "                             Content ID Type of Content        Category\n",
       "0  97522e57-d9ab-4bd6-97bf-c24d952602d2           photo        Studying\n",
       "1  9f737e0a-3cdd-4d29-9d24-753f4e3be810           photo  healthy eating\n",
       "2  230c4e4d-70c3-461d-b42c-ec09396efb3f           photo  healthy eating\n",
       "3  356fff80-da4d-4785-9f43-bc1261031dc6           photo      technology\n",
       "4  01ab84dd-6364-4236-abbb-3f237db77180           video            food"
      ]
     },
     "execution_count": 4,
     "metadata": {},
     "output_type": "execute_result"
    }
   ],
   "source": [
    "#We inspect a few rows here and do the aforementioned rename\n",
    "content_df.rename(columns={'Type': 'Type of Content'}, inplace=True)\n",
    "\n",
    "content_df[['Content ID', 'Type of Content', 'Category']].head()"
   ]
  },
  {
   "cell_type": "code",
   "execution_count": 5,
   "id": "e4854c51",
   "metadata": {},
   "outputs": [
    {
     "data": {
      "text/html": [
       "<div>\n",
       "<style scoped>\n",
       "    .dataframe tbody tr th:only-of-type {\n",
       "        vertical-align: middle;\n",
       "    }\n",
       "\n",
       "    .dataframe tbody tr th {\n",
       "        vertical-align: top;\n",
       "    }\n",
       "\n",
       "    .dataframe thead th {\n",
       "        text-align: right;\n",
       "    }\n",
       "</style>\n",
       "<table border=\"1\" class=\"dataframe\">\n",
       "  <thead>\n",
       "    <tr style=\"text-align: right;\">\n",
       "      <th></th>\n",
       "      <th>Content ID</th>\n",
       "      <th>User ID</th>\n",
       "      <th>Type of Reaction</th>\n",
       "    </tr>\n",
       "  </thead>\n",
       "  <tbody>\n",
       "    <tr>\n",
       "      <th>0</th>\n",
       "      <td>97522e57-d9ab-4bd6-97bf-c24d952602d2</td>\n",
       "      <td>NaN</td>\n",
       "      <td>NaN</td>\n",
       "    </tr>\n",
       "    <tr>\n",
       "      <th>1</th>\n",
       "      <td>97522e57-d9ab-4bd6-97bf-c24d952602d2</td>\n",
       "      <td>5d454588-283d-459d-915d-c48a2cb4c27f</td>\n",
       "      <td>disgust</td>\n",
       "    </tr>\n",
       "    <tr>\n",
       "      <th>2</th>\n",
       "      <td>97522e57-d9ab-4bd6-97bf-c24d952602d2</td>\n",
       "      <td>92b87fa5-f271-43e0-af66-84fac21052e6</td>\n",
       "      <td>dislike</td>\n",
       "    </tr>\n",
       "    <tr>\n",
       "      <th>3</th>\n",
       "      <td>97522e57-d9ab-4bd6-97bf-c24d952602d2</td>\n",
       "      <td>163daa38-8b77-48c9-9af6-37a6c1447ac2</td>\n",
       "      <td>scared</td>\n",
       "    </tr>\n",
       "    <tr>\n",
       "      <th>4</th>\n",
       "      <td>97522e57-d9ab-4bd6-97bf-c24d952602d2</td>\n",
       "      <td>34e8add9-0206-47fd-a501-037b994650a2</td>\n",
       "      <td>disgust</td>\n",
       "    </tr>\n",
       "  </tbody>\n",
       "</table>\n",
       "</div>"
      ],
      "text/plain": [
       "                             Content ID                               User ID  \\\n",
       "0  97522e57-d9ab-4bd6-97bf-c24d952602d2                                   NaN   \n",
       "1  97522e57-d9ab-4bd6-97bf-c24d952602d2  5d454588-283d-459d-915d-c48a2cb4c27f   \n",
       "2  97522e57-d9ab-4bd6-97bf-c24d952602d2  92b87fa5-f271-43e0-af66-84fac21052e6   \n",
       "3  97522e57-d9ab-4bd6-97bf-c24d952602d2  163daa38-8b77-48c9-9af6-37a6c1447ac2   \n",
       "4  97522e57-d9ab-4bd6-97bf-c24d952602d2  34e8add9-0206-47fd-a501-037b994650a2   \n",
       "\n",
       "  Type of Reaction  \n",
       "0              NaN  \n",
       "1          disgust  \n",
       "2          dislike  \n",
       "3           scared  \n",
       "4          disgust  "
      ]
     },
     "execution_count": 5,
     "metadata": {},
     "output_type": "execute_result"
    }
   ],
   "source": [
    "#We inspect a few rows here and do the aforementioned rename\n",
    "reaction_df.rename(columns={'Type': 'Type of Reaction'}, inplace=True)\n",
    "\n",
    "reaction_df[['Content ID', 'User ID', 'Type of Reaction']].head()"
   ]
  },
  {
   "cell_type": "code",
   "execution_count": 6,
   "id": "fefcb106",
   "metadata": {},
   "outputs": [
    {
     "data": {
      "text/html": [
       "<div>\n",
       "<style scoped>\n",
       "    .dataframe tbody tr th:only-of-type {\n",
       "        vertical-align: middle;\n",
       "    }\n",
       "\n",
       "    .dataframe tbody tr th {\n",
       "        vertical-align: top;\n",
       "    }\n",
       "\n",
       "    .dataframe thead th {\n",
       "        text-align: right;\n",
       "    }\n",
       "</style>\n",
       "<table border=\"1\" class=\"dataframe\">\n",
       "  <thead>\n",
       "    <tr style=\"text-align: right;\">\n",
       "      <th></th>\n",
       "      <th>Type of Reaction</th>\n",
       "      <th>Sentiment</th>\n",
       "      <th>Score</th>\n",
       "    </tr>\n",
       "  </thead>\n",
       "  <tbody>\n",
       "    <tr>\n",
       "      <th>0</th>\n",
       "      <td>heart</td>\n",
       "      <td>positive</td>\n",
       "      <td>60</td>\n",
       "    </tr>\n",
       "    <tr>\n",
       "      <th>1</th>\n",
       "      <td>want</td>\n",
       "      <td>positive</td>\n",
       "      <td>70</td>\n",
       "    </tr>\n",
       "    <tr>\n",
       "      <th>2</th>\n",
       "      <td>disgust</td>\n",
       "      <td>negative</td>\n",
       "      <td>0</td>\n",
       "    </tr>\n",
       "    <tr>\n",
       "      <th>3</th>\n",
       "      <td>hate</td>\n",
       "      <td>negative</td>\n",
       "      <td>5</td>\n",
       "    </tr>\n",
       "    <tr>\n",
       "      <th>4</th>\n",
       "      <td>interested</td>\n",
       "      <td>positive</td>\n",
       "      <td>30</td>\n",
       "    </tr>\n",
       "  </tbody>\n",
       "</table>\n",
       "</div>"
      ],
      "text/plain": [
       "  Type of Reaction Sentiment  Score\n",
       "0            heart  positive     60\n",
       "1             want  positive     70\n",
       "2          disgust  negative      0\n",
       "3             hate  negative      5\n",
       "4       interested  positive     30"
      ]
     },
     "execution_count": 6,
     "metadata": {},
     "output_type": "execute_result"
    }
   ],
   "source": [
    "#We inspect a few rows here and do the aforementioned rename\n",
    "reactiontypes_df.rename(columns={'Type': 'Type of Reaction'}, inplace=True)\n",
    "\n",
    "reactiontypes_df[['Type of Reaction', 'Sentiment', 'Score']].head()"
   ]
  },
  {
   "cell_type": "code",
   "execution_count": 8,
   "id": "5eca84b1",
   "metadata": {},
   "outputs": [
    {
     "data": {
      "text/html": [
       "<div>\n",
       "<style scoped>\n",
       "    .dataframe tbody tr th:only-of-type {\n",
       "        vertical-align: middle;\n",
       "    }\n",
       "\n",
       "    .dataframe tbody tr th {\n",
       "        vertical-align: top;\n",
       "    }\n",
       "\n",
       "    .dataframe thead th {\n",
       "        text-align: right;\n",
       "    }\n",
       "</style>\n",
       "<table border=\"1\" class=\"dataframe\">\n",
       "  <thead>\n",
       "    <tr style=\"text-align: right;\">\n",
       "      <th></th>\n",
       "      <th>Content ID</th>\n",
       "      <th>Type of Content</th>\n",
       "      <th>Category</th>\n",
       "    </tr>\n",
       "  </thead>\n",
       "  <tbody>\n",
       "    <tr>\n",
       "      <th>0</th>\n",
       "      <td>97522e57-d9ab-4bd6-97bf-c24d952602d2</td>\n",
       "      <td>photo</td>\n",
       "      <td>Studying</td>\n",
       "    </tr>\n",
       "    <tr>\n",
       "      <th>1</th>\n",
       "      <td>9f737e0a-3cdd-4d29-9d24-753f4e3be810</td>\n",
       "      <td>photo</td>\n",
       "      <td>healthy eating</td>\n",
       "    </tr>\n",
       "    <tr>\n",
       "      <th>2</th>\n",
       "      <td>230c4e4d-70c3-461d-b42c-ec09396efb3f</td>\n",
       "      <td>photo</td>\n",
       "      <td>healthy eating</td>\n",
       "    </tr>\n",
       "    <tr>\n",
       "      <th>3</th>\n",
       "      <td>356fff80-da4d-4785-9f43-bc1261031dc6</td>\n",
       "      <td>photo</td>\n",
       "      <td>technology</td>\n",
       "    </tr>\n",
       "    <tr>\n",
       "      <th>4</th>\n",
       "      <td>01ab84dd-6364-4236-abbb-3f237db77180</td>\n",
       "      <td>video</td>\n",
       "      <td>food</td>\n",
       "    </tr>\n",
       "  </tbody>\n",
       "</table>\n",
       "</div>"
      ],
      "text/plain": [
       "                             Content ID Type of Content        Category\n",
       "0  97522e57-d9ab-4bd6-97bf-c24d952602d2           photo        Studying\n",
       "1  9f737e0a-3cdd-4d29-9d24-753f4e3be810           photo  healthy eating\n",
       "2  230c4e4d-70c3-461d-b42c-ec09396efb3f           photo  healthy eating\n",
       "3  356fff80-da4d-4785-9f43-bc1261031dc6           photo      technology\n",
       "4  01ab84dd-6364-4236-abbb-3f237db77180           video            food"
      ]
     },
     "execution_count": 8,
     "metadata": {},
     "output_type": "execute_result"
    }
   ],
   "source": [
    "\n",
    "\n",
    "content_df = content_df[['Content ID', 'Type of Content', 'Category']]\n",
    "\n",
    "content_df.head()"
   ]
  },
  {
   "cell_type": "code",
   "execution_count": 9,
   "id": "1cf75581",
   "metadata": {},
   "outputs": [
    {
     "name": "stdout",
     "output_type": "stream",
     "text": [
      "Before duplicates are dropped, we have this many rows:  1000\n"
     ]
    }
   ],
   "source": [
    "print('Before duplicates are dropped, we have this many rows: ', content_df.shape[0])"
   ]
  },
  {
   "cell_type": "code",
   "execution_count": 11,
   "id": "43b43809",
   "metadata": {},
   "outputs": [
    {
     "name": "stdout",
     "output_type": "stream",
     "text": [
      "After duplicates are dropped, we have this many rows:  1000\n"
     ]
    }
   ],
   "source": [
    "content_df.drop_duplicates(inplace=True)\n",
    "content_df.reset_index(drop=True, inplace=True)\n",
    "\n",
    "print('After duplicates are dropped, we have this many rows: ', content_df.shape[0])"
   ]
  },
  {
   "cell_type": "code",
   "execution_count": 12,
   "id": "375ffa43",
   "metadata": {},
   "outputs": [
    {
     "data": {
      "text/plain": [
       "array(['Studying', 'healthy eating', 'technology', 'food', 'cooking',\n",
       "       'dogs', 'soccer', 'public speaking', 'science', 'tennis', 'travel',\n",
       "       'fitness', 'education', 'studying', 'veganism', 'Animals',\n",
       "       'animals', 'culture', '\"culture\"', 'Fitness', '\"studying\"',\n",
       "       'Veganism', '\"animals\"', 'Travel', '\"soccer\"', 'Education',\n",
       "       '\"dogs\"', 'Technology', 'Soccer', '\"tennis\"', 'Culture', '\"food\"',\n",
       "       'Food', '\"technology\"', 'Healthy Eating', '\"cooking\"', 'Science',\n",
       "       '\"public speaking\"', '\"veganism\"', 'Public Speaking', '\"science\"'],\n",
       "      dtype=object)"
      ]
     },
     "execution_count": 12,
     "metadata": {},
     "output_type": "execute_result"
    }
   ],
   "source": [
    "content_df['Category'].unique()"
   ]
  },
  {
   "cell_type": "code",
   "execution_count": 13,
   "id": "725c6f39",
   "metadata": {},
   "outputs": [
    {
     "data": {
      "text/plain": [
       "array(['studying', 'healthy eating', 'technology', 'food', 'cooking',\n",
       "       'dogs', 'soccer', 'public speaking', 'science', 'tennis', 'travel',\n",
       "       'fitness', 'education', 'veganism', 'animals', 'culture'],\n",
       "      dtype=object)"
      ]
     },
     "execution_count": 13,
     "metadata": {},
     "output_type": "execute_result"
    }
   ],
   "source": [
    "def category_fixer(row) :\n",
    "    if '\\'' in row or '\\\"' in row:\n",
    "        row = row[1:-1].lower()\n",
    "        return row\n",
    "    else :\n",
    "        row = row.lower()\n",
    "        return row\n",
    "    \n",
    "content_df['Category'] = content_df['Category'].map(lambda row: category_fixer(row))\n",
    "content_df['Category'].unique()"
   ]
  },
  {
   "cell_type": "code",
   "execution_count": 14,
   "id": "136e838a",
   "metadata": {},
   "outputs": [
    {
     "name": "stdout",
     "output_type": "stream",
     "text": [
      "<class 'pandas.core.frame.DataFrame'>\n",
      "RangeIndex: 1000 entries, 0 to 999\n",
      "Data columns (total 3 columns):\n",
      " #   Column           Non-Null Count  Dtype \n",
      "---  ------           --------------  ----- \n",
      " 0   Content ID       1000 non-null   object\n",
      " 1   Type of Content  1000 non-null   object\n",
      " 2   Category         1000 non-null   object\n",
      "dtypes: object(3)\n",
      "memory usage: 23.6+ KB\n"
     ]
    }
   ],
   "source": [
    "content_df.info()"
   ]
  },
  {
   "cell_type": "code",
   "execution_count": 15,
   "id": "8ada7477",
   "metadata": {},
   "outputs": [
    {
     "data": {
      "text/html": [
       "<div>\n",
       "<style scoped>\n",
       "    .dataframe tbody tr th:only-of-type {\n",
       "        vertical-align: middle;\n",
       "    }\n",
       "\n",
       "    .dataframe tbody tr th {\n",
       "        vertical-align: top;\n",
       "    }\n",
       "\n",
       "    .dataframe thead th {\n",
       "        text-align: right;\n",
       "    }\n",
       "</style>\n",
       "<table border=\"1\" class=\"dataframe\">\n",
       "  <thead>\n",
       "    <tr style=\"text-align: right;\">\n",
       "      <th></th>\n",
       "      <th>Content ID</th>\n",
       "      <th>User ID</th>\n",
       "      <th>Type of Reaction</th>\n",
       "    </tr>\n",
       "  </thead>\n",
       "  <tbody>\n",
       "    <tr>\n",
       "      <th>0</th>\n",
       "      <td>97522e57-d9ab-4bd6-97bf-c24d952602d2</td>\n",
       "      <td>NaN</td>\n",
       "      <td>NaN</td>\n",
       "    </tr>\n",
       "    <tr>\n",
       "      <th>1</th>\n",
       "      <td>97522e57-d9ab-4bd6-97bf-c24d952602d2</td>\n",
       "      <td>5d454588-283d-459d-915d-c48a2cb4c27f</td>\n",
       "      <td>disgust</td>\n",
       "    </tr>\n",
       "    <tr>\n",
       "      <th>2</th>\n",
       "      <td>97522e57-d9ab-4bd6-97bf-c24d952602d2</td>\n",
       "      <td>92b87fa5-f271-43e0-af66-84fac21052e6</td>\n",
       "      <td>dislike</td>\n",
       "    </tr>\n",
       "    <tr>\n",
       "      <th>3</th>\n",
       "      <td>97522e57-d9ab-4bd6-97bf-c24d952602d2</td>\n",
       "      <td>163daa38-8b77-48c9-9af6-37a6c1447ac2</td>\n",
       "      <td>scared</td>\n",
       "    </tr>\n",
       "    <tr>\n",
       "      <th>4</th>\n",
       "      <td>97522e57-d9ab-4bd6-97bf-c24d952602d2</td>\n",
       "      <td>34e8add9-0206-47fd-a501-037b994650a2</td>\n",
       "      <td>disgust</td>\n",
       "    </tr>\n",
       "  </tbody>\n",
       "</table>\n",
       "</div>"
      ],
      "text/plain": [
       "                             Content ID                               User ID  \\\n",
       "0  97522e57-d9ab-4bd6-97bf-c24d952602d2                                   NaN   \n",
       "1  97522e57-d9ab-4bd6-97bf-c24d952602d2  5d454588-283d-459d-915d-c48a2cb4c27f   \n",
       "2  97522e57-d9ab-4bd6-97bf-c24d952602d2  92b87fa5-f271-43e0-af66-84fac21052e6   \n",
       "3  97522e57-d9ab-4bd6-97bf-c24d952602d2  163daa38-8b77-48c9-9af6-37a6c1447ac2   \n",
       "4  97522e57-d9ab-4bd6-97bf-c24d952602d2  34e8add9-0206-47fd-a501-037b994650a2   \n",
       "\n",
       "  Type of Reaction  \n",
       "0              NaN  \n",
       "1          disgust  \n",
       "2          dislike  \n",
       "3           scared  \n",
       "4          disgust  "
      ]
     },
     "execution_count": 15,
     "metadata": {},
     "output_type": "execute_result"
    }
   ],
   "source": [
    "reaction_df = reaction_df[['Content ID', 'User ID', 'Type of Reaction']]\n",
    "\n",
    "reaction_df.head()"
   ]
  },
  {
   "cell_type": "code",
   "execution_count": 16,
   "id": "9af154e9",
   "metadata": {},
   "outputs": [
    {
     "name": "stdout",
     "output_type": "stream",
     "text": [
      "Before duplicates are dropped, we have this many rows:  25553\n"
     ]
    }
   ],
   "source": [
    "print('Before duplicates are dropped, we have this many rows: ', reaction_df.shape[0])"
   ]
  },
  {
   "cell_type": "code",
   "execution_count": 19,
   "id": "1613045f",
   "metadata": {},
   "outputs": [
    {
     "name": "stdout",
     "output_type": "stream",
     "text": [
      "After duplicates are dropped, we have this many rows:  25407\n"
     ]
    }
   ],
   "source": [
    "reaction_df.drop_duplicates(inplace=True)\n",
    "reaction_df.reset_index(drop=True, inplace=True)\n",
    "print('After duplicates are dropped, we have this many rows: ',reaction_df.shape[0])\n"
   ]
  },
  {
   "cell_type": "code",
   "execution_count": 20,
   "id": "c02d6a84",
   "metadata": {},
   "outputs": [
    {
     "data": {
      "text/plain": [
       "array([nan, 'disgust', 'dislike', 'scared', 'interested', 'peeking',\n",
       "       'cherish', 'hate', 'love', 'indifferent', 'super love',\n",
       "       'intrigued', 'worried', 'like', 'heart', 'want', 'adore'],\n",
       "      dtype=object)"
      ]
     },
     "execution_count": 20,
     "metadata": {},
     "output_type": "execute_result"
    }
   ],
   "source": [
    "reaction_df['Type of Reaction'].unique()"
   ]
  },
  {
   "cell_type": "code",
   "execution_count": 21,
   "id": "76649be3",
   "metadata": {},
   "outputs": [
    {
     "name": "stdout",
     "output_type": "stream",
     "text": [
      "<class 'pandas.core.frame.DataFrame'>\n",
      "RangeIndex: 25407 entries, 0 to 25406\n",
      "Data columns (total 3 columns):\n",
      " #   Column            Non-Null Count  Dtype \n",
      "---  ------            --------------  ----- \n",
      " 0   Content ID        25407 non-null  object\n",
      " 1   User ID           22501 non-null  object\n",
      " 2   Type of Reaction  24427 non-null  object\n",
      "dtypes: object(3)\n",
      "memory usage: 595.6+ KB\n"
     ]
    }
   ],
   "source": [
    "reaction_df.info()"
   ]
  },
  {
   "cell_type": "code",
   "execution_count": 22,
   "id": "37305a5f",
   "metadata": {},
   "outputs": [
    {
     "name": "stdout",
     "output_type": "stream",
     "text": [
      "Before nulls are dropped, we have this many rows:  25407\n",
      "After nulls are dropped, we have this many rows:  22501\n"
     ]
    }
   ],
   "source": [
    "print('Before nulls are dropped, we have this many rows: ', reaction_df.shape[0])\n",
    "\n",
    "reaction_df.dropna(inplace=True)\n",
    "reaction_df.reset_index(drop=True, inplace=True)\n",
    "\n",
    "print('After nulls are dropped, we have this many rows: ', reaction_df.shape[0])"
   ]
  },
  {
   "cell_type": "code",
   "execution_count": 23,
   "id": "8c92f6de",
   "metadata": {},
   "outputs": [
    {
     "name": "stdout",
     "output_type": "stream",
     "text": [
      "<class 'pandas.core.frame.DataFrame'>\n",
      "RangeIndex: 22501 entries, 0 to 22500\n",
      "Data columns (total 3 columns):\n",
      " #   Column            Non-Null Count  Dtype \n",
      "---  ------            --------------  ----- \n",
      " 0   Content ID        22501 non-null  object\n",
      " 1   User ID           22501 non-null  object\n",
      " 2   Type of Reaction  22501 non-null  object\n",
      "dtypes: object(3)\n",
      "memory usage: 527.5+ KB\n"
     ]
    }
   ],
   "source": [
    "# double check\n",
    "reaction_df.info()"
   ]
  },
  {
   "cell_type": "code",
   "execution_count": 24,
   "id": "87b9738e",
   "metadata": {},
   "outputs": [
    {
     "data": {
      "text/html": [
       "<div>\n",
       "<style scoped>\n",
       "    .dataframe tbody tr th:only-of-type {\n",
       "        vertical-align: middle;\n",
       "    }\n",
       "\n",
       "    .dataframe tbody tr th {\n",
       "        vertical-align: top;\n",
       "    }\n",
       "\n",
       "    .dataframe thead th {\n",
       "        text-align: right;\n",
       "    }\n",
       "</style>\n",
       "<table border=\"1\" class=\"dataframe\">\n",
       "  <thead>\n",
       "    <tr style=\"text-align: right;\">\n",
       "      <th></th>\n",
       "      <th>Type of Reaction</th>\n",
       "      <th>Sentiment</th>\n",
       "      <th>Score</th>\n",
       "    </tr>\n",
       "  </thead>\n",
       "  <tbody>\n",
       "    <tr>\n",
       "      <th>0</th>\n",
       "      <td>heart</td>\n",
       "      <td>positive</td>\n",
       "      <td>60</td>\n",
       "    </tr>\n",
       "    <tr>\n",
       "      <th>1</th>\n",
       "      <td>want</td>\n",
       "      <td>positive</td>\n",
       "      <td>70</td>\n",
       "    </tr>\n",
       "    <tr>\n",
       "      <th>2</th>\n",
       "      <td>disgust</td>\n",
       "      <td>negative</td>\n",
       "      <td>0</td>\n",
       "    </tr>\n",
       "    <tr>\n",
       "      <th>3</th>\n",
       "      <td>hate</td>\n",
       "      <td>negative</td>\n",
       "      <td>5</td>\n",
       "    </tr>\n",
       "    <tr>\n",
       "      <th>4</th>\n",
       "      <td>interested</td>\n",
       "      <td>positive</td>\n",
       "      <td>30</td>\n",
       "    </tr>\n",
       "  </tbody>\n",
       "</table>\n",
       "</div>"
      ],
      "text/plain": [
       "  Type of Reaction Sentiment  Score\n",
       "0            heart  positive     60\n",
       "1             want  positive     70\n",
       "2          disgust  negative      0\n",
       "3             hate  negative      5\n",
       "4       interested  positive     30"
      ]
     },
     "execution_count": 24,
     "metadata": {},
     "output_type": "execute_result"
    }
   ],
   "source": [
    "reactiontypes_df = reactiontypes_df[['Type of Reaction', 'Sentiment', 'Score']]\n",
    "\n",
    "reactiontypes_df.head()"
   ]
  },
  {
   "cell_type": "code",
   "execution_count": 25,
   "id": "b403d633",
   "metadata": {},
   "outputs": [
    {
     "name": "stdout",
     "output_type": "stream",
     "text": [
      "Before duplicates are dropped, we have this many rows:  16\n",
      "After duplicates are dropped, we have this many rows:  16\n"
     ]
    }
   ],
   "source": [
    "print('Before duplicates are dropped, we have this many rows: ', reactiontypes_df.shape[0])\n",
    "\n",
    "reactiontypes_df.drop_duplicates(inplace=True)\n",
    "reactiontypes_df.reset_index(drop=True, inplace=True)\n",
    "\n",
    "print('After duplicates are dropped, we have this many rows: ', reactiontypes_df.shape[0])"
   ]
  },
  {
   "cell_type": "code",
   "execution_count": 26,
   "id": "659a1a10",
   "metadata": {},
   "outputs": [
    {
     "data": {
      "text/plain": [
       "array(['heart', 'want', 'disgust', 'hate', 'interested', 'indifferent',\n",
       "       'love', 'super love', 'cherish', 'adore', 'like', 'dislike',\n",
       "       'intrigued', 'peeking', 'scared', 'worried'], dtype=object)"
      ]
     },
     "execution_count": 26,
     "metadata": {},
     "output_type": "execute_result"
    }
   ],
   "source": [
    "reactiontypes_df['Type of Reaction'].unique()"
   ]
  },
  {
   "cell_type": "code",
   "execution_count": null,
   "id": "f9c08769",
   "metadata": {},
   "outputs": [],
   "source": [
    "#no nan or duplicate\n"
   ]
  },
  {
   "cell_type": "code",
   "execution_count": 27,
   "id": "c1652106",
   "metadata": {},
   "outputs": [
    {
     "name": "stdout",
     "output_type": "stream",
     "text": [
      "<class 'pandas.core.frame.DataFrame'>\n",
      "RangeIndex: 16 entries, 0 to 15\n",
      "Data columns (total 3 columns):\n",
      " #   Column            Non-Null Count  Dtype \n",
      "---  ------            --------------  ----- \n",
      " 0   Type of Reaction  16 non-null     object\n",
      " 1   Sentiment         16 non-null     object\n",
      " 2   Score             16 non-null     int64 \n",
      "dtypes: int64(1), object(2)\n",
      "memory usage: 512.0+ bytes\n"
     ]
    }
   ],
   "source": [
    "reactiontypes_df.info()"
   ]
  },
  {
   "cell_type": "code",
   "execution_count": null,
   "id": "b2623061",
   "metadata": {},
   "outputs": [],
   "source": [
    "#Now we have no nulls here and the duplicates have been dealt with, however sometimes this isn't entirely enough \n",
    "#to assume that the data is clean and ready to go. Specifically, when it comes to numerical columns, such as score, \n",
    "#you sometimes might have numbers (that aren't nulls), but still aren't correct. For example, we shouldn't have \n",
    "#negative values or values over 100 in the score column.\n",
    "\n",
    "#First, let's investigate the various value ranges within the score column."
   ]
  },
  {
   "cell_type": "code",
   "execution_count": 28,
   "id": "56e3a4fa",
   "metadata": {},
   "outputs": [
    {
     "name": "stdout",
     "output_type": "stream",
     "text": [
      "[ 0  5 10 12 15 20 30 35 45 50 60 65 70 72 75]\n"
     ]
    }
   ],
   "source": [
    "scores = reactiontypes_df['Score'].unique()\n",
    "scores.sort()\n",
    "print(scores)"
   ]
  },
  {
   "cell_type": "code",
   "execution_count": null,
   "id": "994a1aea",
   "metadata": {},
   "outputs": [],
   "source": [
    "#Fortunately, we have no out of range values in the column, so there's no need to tweak any of the existing values.\n",
    "\n",
    "#Now that our data is prepared, we must now create our final dataset.\n",
    "\n",
    "#The dataframes will generally be joined in the following ways:\n",
    "\n",
    "#Content will be joined to the Reaction dataframe by Content ID. ReactionTypes will then be joined by Type of Reaction."
   ]
  },
  {
   "cell_type": "code",
   "execution_count": 29,
   "id": "95aa016a",
   "metadata": {},
   "outputs": [
    {
     "data": {
      "text/html": [
       "<div>\n",
       "<style scoped>\n",
       "    .dataframe tbody tr th:only-of-type {\n",
       "        vertical-align: middle;\n",
       "    }\n",
       "\n",
       "    .dataframe tbody tr th {\n",
       "        vertical-align: top;\n",
       "    }\n",
       "\n",
       "    .dataframe thead th {\n",
       "        text-align: right;\n",
       "    }\n",
       "</style>\n",
       "<table border=\"1\" class=\"dataframe\">\n",
       "  <thead>\n",
       "    <tr style=\"text-align: right;\">\n",
       "      <th></th>\n",
       "      <th>Content ID</th>\n",
       "      <th>User ID</th>\n",
       "      <th>Type of Reaction</th>\n",
       "      <th>Sentiment</th>\n",
       "      <th>Score</th>\n",
       "      <th>Type of Content</th>\n",
       "      <th>Category</th>\n",
       "    </tr>\n",
       "  </thead>\n",
       "  <tbody>\n",
       "    <tr>\n",
       "      <th>0</th>\n",
       "      <td>97522e57-d9ab-4bd6-97bf-c24d952602d2</td>\n",
       "      <td>5d454588-283d-459d-915d-c48a2cb4c27f</td>\n",
       "      <td>disgust</td>\n",
       "      <td>negative</td>\n",
       "      <td>0</td>\n",
       "      <td>photo</td>\n",
       "      <td>studying</td>\n",
       "    </tr>\n",
       "    <tr>\n",
       "      <th>1</th>\n",
       "      <td>97522e57-d9ab-4bd6-97bf-c24d952602d2</td>\n",
       "      <td>34e8add9-0206-47fd-a501-037b994650a2</td>\n",
       "      <td>disgust</td>\n",
       "      <td>negative</td>\n",
       "      <td>0</td>\n",
       "      <td>photo</td>\n",
       "      <td>studying</td>\n",
       "    </tr>\n",
       "    <tr>\n",
       "      <th>2</th>\n",
       "      <td>97522e57-d9ab-4bd6-97bf-c24d952602d2</td>\n",
       "      <td>13c06e7e-833d-47eb-a790-5e09ccfd8d2c</td>\n",
       "      <td>disgust</td>\n",
       "      <td>negative</td>\n",
       "      <td>0</td>\n",
       "      <td>photo</td>\n",
       "      <td>studying</td>\n",
       "    </tr>\n",
       "    <tr>\n",
       "      <th>3</th>\n",
       "      <td>97522e57-d9ab-4bd6-97bf-c24d952602d2</td>\n",
       "      <td>92b87fa5-f271-43e0-af66-84fac21052e6</td>\n",
       "      <td>dislike</td>\n",
       "      <td>negative</td>\n",
       "      <td>10</td>\n",
       "      <td>photo</td>\n",
       "      <td>studying</td>\n",
       "    </tr>\n",
       "    <tr>\n",
       "      <th>4</th>\n",
       "      <td>97522e57-d9ab-4bd6-97bf-c24d952602d2</td>\n",
       "      <td>69532ce2-1ffe-4187-8042-0230d115b24e</td>\n",
       "      <td>dislike</td>\n",
       "      <td>negative</td>\n",
       "      <td>10</td>\n",
       "      <td>photo</td>\n",
       "      <td>studying</td>\n",
       "    </tr>\n",
       "    <tr>\n",
       "      <th>...</th>\n",
       "      <td>...</td>\n",
       "      <td>...</td>\n",
       "      <td>...</td>\n",
       "      <td>...</td>\n",
       "      <td>...</td>\n",
       "      <td>...</td>\n",
       "      <td>...</td>\n",
       "    </tr>\n",
       "    <tr>\n",
       "      <th>22496</th>\n",
       "      <td>5656bfe4-bcc1-4426-94b6-1f9dfe9a0db4</td>\n",
       "      <td>7d8c8c77-77a8-4743-b35f-349c0ac07866</td>\n",
       "      <td>intrigued</td>\n",
       "      <td>positive</td>\n",
       "      <td>45</td>\n",
       "      <td>video</td>\n",
       "      <td>travel</td>\n",
       "    </tr>\n",
       "    <tr>\n",
       "      <th>22497</th>\n",
       "      <td>e6ee2244-9382-49a9-8cbf-fa54aaaa2392</td>\n",
       "      <td>87026ce7-fd0b-4b57-9126-d4bae2c1ee0e</td>\n",
       "      <td>intrigued</td>\n",
       "      <td>positive</td>\n",
       "      <td>45</td>\n",
       "      <td>audio</td>\n",
       "      <td>travel</td>\n",
       "    </tr>\n",
       "    <tr>\n",
       "      <th>22498</th>\n",
       "      <td>a55b215b-06c5-4ef3-ac14-7e1569c3ad2e</td>\n",
       "      <td>bcdf88dc-2a52-4716-bc24-a1b46040c8ce</td>\n",
       "      <td>intrigued</td>\n",
       "      <td>positive</td>\n",
       "      <td>45</td>\n",
       "      <td>GIF</td>\n",
       "      <td>education</td>\n",
       "    </tr>\n",
       "    <tr>\n",
       "      <th>22499</th>\n",
       "      <td>a55b215b-06c5-4ef3-ac14-7e1569c3ad2e</td>\n",
       "      <td>0c5b0547-820a-4beb-832e-3162f74ccfa7</td>\n",
       "      <td>adore</td>\n",
       "      <td>positive</td>\n",
       "      <td>72</td>\n",
       "      <td>GIF</td>\n",
       "      <td>education</td>\n",
       "    </tr>\n",
       "    <tr>\n",
       "      <th>22500</th>\n",
       "      <td>c59e27e9-0439-4699-8ea0-5e93f662a05d</td>\n",
       "      <td>30a7de62-d6a1-47d6-963f-0724adf18c4b</td>\n",
       "      <td>adore</td>\n",
       "      <td>positive</td>\n",
       "      <td>72</td>\n",
       "      <td>GIF</td>\n",
       "      <td>fitness</td>\n",
       "    </tr>\n",
       "  </tbody>\n",
       "</table>\n",
       "<p>22501 rows × 7 columns</p>\n",
       "</div>"
      ],
      "text/plain": [
       "                                 Content ID  \\\n",
       "0      97522e57-d9ab-4bd6-97bf-c24d952602d2   \n",
       "1      97522e57-d9ab-4bd6-97bf-c24d952602d2   \n",
       "2      97522e57-d9ab-4bd6-97bf-c24d952602d2   \n",
       "3      97522e57-d9ab-4bd6-97bf-c24d952602d2   \n",
       "4      97522e57-d9ab-4bd6-97bf-c24d952602d2   \n",
       "...                                     ...   \n",
       "22496  5656bfe4-bcc1-4426-94b6-1f9dfe9a0db4   \n",
       "22497  e6ee2244-9382-49a9-8cbf-fa54aaaa2392   \n",
       "22498  a55b215b-06c5-4ef3-ac14-7e1569c3ad2e   \n",
       "22499  a55b215b-06c5-4ef3-ac14-7e1569c3ad2e   \n",
       "22500  c59e27e9-0439-4699-8ea0-5e93f662a05d   \n",
       "\n",
       "                                    User ID Type of Reaction Sentiment  Score  \\\n",
       "0      5d454588-283d-459d-915d-c48a2cb4c27f          disgust  negative      0   \n",
       "1      34e8add9-0206-47fd-a501-037b994650a2          disgust  negative      0   \n",
       "2      13c06e7e-833d-47eb-a790-5e09ccfd8d2c          disgust  negative      0   \n",
       "3      92b87fa5-f271-43e0-af66-84fac21052e6          dislike  negative     10   \n",
       "4      69532ce2-1ffe-4187-8042-0230d115b24e          dislike  negative     10   \n",
       "...                                     ...              ...       ...    ...   \n",
       "22496  7d8c8c77-77a8-4743-b35f-349c0ac07866        intrigued  positive     45   \n",
       "22497  87026ce7-fd0b-4b57-9126-d4bae2c1ee0e        intrigued  positive     45   \n",
       "22498  bcdf88dc-2a52-4716-bc24-a1b46040c8ce        intrigued  positive     45   \n",
       "22499  0c5b0547-820a-4beb-832e-3162f74ccfa7            adore  positive     72   \n",
       "22500  30a7de62-d6a1-47d6-963f-0724adf18c4b            adore  positive     72   \n",
       "\n",
       "      Type of Content   Category  \n",
       "0               photo   studying  \n",
       "1               photo   studying  \n",
       "2               photo   studying  \n",
       "3               photo   studying  \n",
       "4               photo   studying  \n",
       "...               ...        ...  \n",
       "22496           video     travel  \n",
       "22497           audio     travel  \n",
       "22498             GIF  education  \n",
       "22499             GIF  education  \n",
       "22500             GIF    fitness  \n",
       "\n",
       "[22501 rows x 7 columns]"
      ]
     },
     "execution_count": 29,
     "metadata": {},
     "output_type": "execute_result"
    }
   ],
   "source": [
    "final_df = pd.merge(reaction_df, reactiontypes_df, on='Type of Reaction', how='inner')\n",
    "final_df = pd.merge(final_df, content_df, on='Content ID', how='inner')\n",
    "final_df"
   ]
  },
  {
   "cell_type": "code",
   "execution_count": 41,
   "id": "a4f4cf5c",
   "metadata": {},
   "outputs": [],
   "source": [
    "#into csv file\n",
    "final_df.to_csv(r'C:\\Users\\Admin\\Downloads\\Content.csv', index=0)\n",
    "  \n",
    "    \n"
   ]
  },
  {
   "cell_type": "code",
   "execution_count": null,
   "id": "8f3ac362",
   "metadata": {},
   "outputs": [],
   "source": [
    "#Visualizations\n",
    "#Now that our data is prepared, it's time to answer the original question (and possibly a few more if they come up). \n",
    "#As we ask them, we can begin generating our visualizations along the way.\n",
    "\n",
    "#First, let us bring up the data for the top 5 categories according to popularity."
   ]
  },
  {
   "cell_type": "code",
   "execution_count": 42,
   "id": "0d8f338f",
   "metadata": {},
   "outputs": [
    {
     "data": {
      "text/html": [
       "<div>\n",
       "<style scoped>\n",
       "    .dataframe tbody tr th:only-of-type {\n",
       "        vertical-align: middle;\n",
       "    }\n",
       "\n",
       "    .dataframe tbody tr th {\n",
       "        vertical-align: top;\n",
       "    }\n",
       "\n",
       "    .dataframe thead th {\n",
       "        text-align: right;\n",
       "    }\n",
       "</style>\n",
       "<table border=\"1\" class=\"dataframe\">\n",
       "  <thead>\n",
       "    <tr style=\"text-align: right;\">\n",
       "      <th></th>\n",
       "      <th>Score</th>\n",
       "    </tr>\n",
       "    <tr>\n",
       "      <th>Category</th>\n",
       "      <th></th>\n",
       "    </tr>\n",
       "  </thead>\n",
       "  <tbody>\n",
       "    <tr>\n",
       "      <th>animals</th>\n",
       "      <td>68463</td>\n",
       "    </tr>\n",
       "    <tr>\n",
       "      <th>science</th>\n",
       "      <td>65325</td>\n",
       "    </tr>\n",
       "    <tr>\n",
       "      <th>healthy eating</th>\n",
       "      <td>63138</td>\n",
       "    </tr>\n",
       "    <tr>\n",
       "      <th>technology</th>\n",
       "      <td>62918</td>\n",
       "    </tr>\n",
       "    <tr>\n",
       "      <th>food</th>\n",
       "      <td>61413</td>\n",
       "    </tr>\n",
       "    <tr>\n",
       "      <th>culture</th>\n",
       "      <td>60663</td>\n",
       "    </tr>\n",
       "    <tr>\n",
       "      <th>travel</th>\n",
       "      <td>59318</td>\n",
       "    </tr>\n",
       "    <tr>\n",
       "      <th>cooking</th>\n",
       "      <td>59154</td>\n",
       "    </tr>\n",
       "    <tr>\n",
       "      <th>soccer</th>\n",
       "      <td>53079</td>\n",
       "    </tr>\n",
       "    <tr>\n",
       "      <th>education</th>\n",
       "      <td>52667</td>\n",
       "    </tr>\n",
       "    <tr>\n",
       "      <th>fitness</th>\n",
       "      <td>50800</td>\n",
       "    </tr>\n",
       "    <tr>\n",
       "      <th>studying</th>\n",
       "      <td>49442</td>\n",
       "    </tr>\n",
       "    <tr>\n",
       "      <th>dogs</th>\n",
       "      <td>48333</td>\n",
       "    </tr>\n",
       "    <tr>\n",
       "      <th>tennis</th>\n",
       "      <td>46050</td>\n",
       "    </tr>\n",
       "    <tr>\n",
       "      <th>veganism</th>\n",
       "      <td>45901</td>\n",
       "    </tr>\n",
       "    <tr>\n",
       "      <th>public speaking</th>\n",
       "      <td>45646</td>\n",
       "    </tr>\n",
       "  </tbody>\n",
       "</table>\n",
       "</div>"
      ],
      "text/plain": [
       "                 Score\n",
       "Category              \n",
       "animals          68463\n",
       "science          65325\n",
       "healthy eating   63138\n",
       "technology       62918\n",
       "food             61413\n",
       "culture          60663\n",
       "travel           59318\n",
       "cooking          59154\n",
       "soccer           53079\n",
       "education        52667\n",
       "fitness          50800\n",
       "studying         49442\n",
       "dogs             48333\n",
       "tennis           46050\n",
       "veganism         45901\n",
       "public speaking  45646"
      ]
     },
     "execution_count": 42,
     "metadata": {},
     "output_type": "execute_result"
    }
   ],
   "source": [
    "category_scores = pd.DataFrame(final_df.groupby('Category')['Score'].sum()).sort_values(by=['Score'], ascending=False)\n",
    "category_scores"
   ]
  },
  {
   "cell_type": "code",
   "execution_count": null,
   "id": "2c9130ae",
   "metadata": {},
   "outputs": [],
   "source": [
    "#As we can see, the top 5 categories in order are animals, science, technology, travel, and healthy eating. \n",
    "#The bottom 5 are dogs, studying, tennis, veganism, and public speaking.\n",
    "\n",
    "#Now we can prepare the visualizations. The simplest way of comparing multiple categories against each other on the same \n",
    "#axis is by using a bar chart."
   ]
  },
  {
   "cell_type": "code",
   "execution_count": 45,
   "id": "7f4284b9",
   "metadata": {},
   "outputs": [
    {
     "data": {
      "image/png": "[encoded data removed]",
      "text/plain": [
       "<Figure size 432x288 with 1 Axes>"
      ]
     },
     "metadata": {
      "needs_background": "light"
     },
     "output_type": "display_data"
    }
   ],
   "source": [
    "category_scores.plot(kind='bar')\n",
    "plt.title('category Popularity')\n",
    "plt.ylabel('Popularity')\n",
    "plt.label('category')\n",
    "\n",
    "plt.show()"
   ]
  },
  {
   "cell_type": "code",
   "execution_count": null,
   "id": "b8edc7a9",
   "metadata": {},
   "outputs": [],
   "source": [
    "#How about we dig a bit deeper into the data? Sometimes, topics that are very popular can sometimes be controversial.\n",
    "#Now we'll check for the total sentiment per category."
   ]
  },
  {
   "cell_type": "code",
   "execution_count": 53,
   "id": "fa5e72c1",
   "metadata": {},
   "outputs": [
    {
     "data": {
      "text/html": [
       "<div>\n",
       "<style scoped>\n",
       "    .dataframe tbody tr th:only-of-type {\n",
       "        vertical-align: middle;\n",
       "    }\n",
       "\n",
       "    .dataframe tbody tr th {\n",
       "        vertical-align: top;\n",
       "    }\n",
       "\n",
       "    .dataframe thead th {\n",
       "        text-align: right;\n",
       "    }\n",
       "</style>\n",
       "<table border=\"1\" class=\"dataframe\">\n",
       "  <thead>\n",
       "    <tr style=\"text-align: right;\">\n",
       "      <th></th>\n",
       "      <th>Category</th>\n",
       "      <th>Sentiment</th>\n",
       "      <th>Sentiment Total</th>\n",
       "    </tr>\n",
       "  </thead>\n",
       "  <tbody>\n",
       "    <tr>\n",
       "      <th>0</th>\n",
       "      <td>animals</td>\n",
       "      <td>positive</td>\n",
       "      <td>960</td>\n",
       "    </tr>\n",
       "    <tr>\n",
       "      <th>27</th>\n",
       "      <td>science</td>\n",
       "      <td>positive</td>\n",
       "      <td>932</td>\n",
       "    </tr>\n",
       "    <tr>\n",
       "      <th>21</th>\n",
       "      <td>healthy eating</td>\n",
       "      <td>positive</td>\n",
       "      <td>896</td>\n",
       "    </tr>\n",
       "    <tr>\n",
       "      <th>36</th>\n",
       "      <td>technology</td>\n",
       "      <td>positive</td>\n",
       "      <td>894</td>\n",
       "    </tr>\n",
       "    <tr>\n",
       "      <th>18</th>\n",
       "      <td>food</td>\n",
       "      <td>positive</td>\n",
       "      <td>869</td>\n",
       "    </tr>\n",
       "    <tr>\n",
       "      <th>6</th>\n",
       "      <td>culture</td>\n",
       "      <td>positive</td>\n",
       "      <td>855</td>\n",
       "    </tr>\n",
       "    <tr>\n",
       "      <th>3</th>\n",
       "      <td>cooking</td>\n",
       "      <td>positive</td>\n",
       "      <td>851</td>\n",
       "    </tr>\n",
       "    <tr>\n",
       "      <th>42</th>\n",
       "      <td>travel</td>\n",
       "      <td>positive</td>\n",
       "      <td>841</td>\n",
       "    </tr>\n",
       "    <tr>\n",
       "      <th>12</th>\n",
       "      <td>education</td>\n",
       "      <td>positive</td>\n",
       "      <td>750</td>\n",
       "    </tr>\n",
       "    <tr>\n",
       "      <th>30</th>\n",
       "      <td>soccer</td>\n",
       "      <td>positive</td>\n",
       "      <td>750</td>\n",
       "    </tr>\n",
       "    <tr>\n",
       "      <th>15</th>\n",
       "      <td>fitness</td>\n",
       "      <td>positive</td>\n",
       "      <td>721</td>\n",
       "    </tr>\n",
       "    <tr>\n",
       "      <th>33</th>\n",
       "      <td>studying</td>\n",
       "      <td>positive</td>\n",
       "      <td>697</td>\n",
       "    </tr>\n",
       "    <tr>\n",
       "      <th>9</th>\n",
       "      <td>dogs</td>\n",
       "      <td>positive</td>\n",
       "      <td>688</td>\n",
       "    </tr>\n",
       "    <tr>\n",
       "      <th>24</th>\n",
       "      <td>public speaking</td>\n",
       "      <td>positive</td>\n",
       "      <td>659</td>\n",
       "    </tr>\n",
       "    <tr>\n",
       "      <th>39</th>\n",
       "      <td>tennis</td>\n",
       "      <td>positive</td>\n",
       "      <td>654</td>\n",
       "    </tr>\n",
       "    <tr>\n",
       "      <th>45</th>\n",
       "      <td>veganism</td>\n",
       "      <td>positive</td>\n",
       "      <td>639</td>\n",
       "    </tr>\n",
       "    <tr>\n",
       "      <th>29</th>\n",
       "      <td>science</td>\n",
       "      <td>neutral</td>\n",
       "      <td>221</td>\n",
       "    </tr>\n",
       "    <tr>\n",
       "      <th>2</th>\n",
       "      <td>animals</td>\n",
       "      <td>neutral</td>\n",
       "      <td>210</td>\n",
       "    </tr>\n",
       "    <tr>\n",
       "      <th>23</th>\n",
       "      <td>healthy eating</td>\n",
       "      <td>neutral</td>\n",
       "      <td>199</td>\n",
       "    </tr>\n",
       "    <tr>\n",
       "      <th>38</th>\n",
       "      <td>technology</td>\n",
       "      <td>neutral</td>\n",
       "      <td>196</td>\n",
       "    </tr>\n",
       "    <tr>\n",
       "      <th>8</th>\n",
       "      <td>culture</td>\n",
       "      <td>neutral</td>\n",
       "      <td>195</td>\n",
       "    </tr>\n",
       "    <tr>\n",
       "      <th>20</th>\n",
       "      <td>food</td>\n",
       "      <td>neutral</td>\n",
       "      <td>191</td>\n",
       "    </tr>\n",
       "    <tr>\n",
       "      <th>32</th>\n",
       "      <td>soccer</td>\n",
       "      <td>neutral</td>\n",
       "      <td>183</td>\n",
       "    </tr>\n",
       "    <tr>\n",
       "      <th>44</th>\n",
       "      <td>travel</td>\n",
       "      <td>neutral</td>\n",
       "      <td>177</td>\n",
       "    </tr>\n",
       "    <tr>\n",
       "      <th>5</th>\n",
       "      <td>cooking</td>\n",
       "      <td>neutral</td>\n",
       "      <td>172</td>\n",
       "    </tr>\n",
       "    <tr>\n",
       "      <th>14</th>\n",
       "      <td>education</td>\n",
       "      <td>neutral</td>\n",
       "      <td>171</td>\n",
       "    </tr>\n",
       "    <tr>\n",
       "      <th>11</th>\n",
       "      <td>dogs</td>\n",
       "      <td>neutral</td>\n",
       "      <td>167</td>\n",
       "    </tr>\n",
       "    <tr>\n",
       "      <th>35</th>\n",
       "      <td>studying</td>\n",
       "      <td>neutral</td>\n",
       "      <td>157</td>\n",
       "    </tr>\n",
       "    <tr>\n",
       "      <th>17</th>\n",
       "      <td>fitness</td>\n",
       "      <td>neutral</td>\n",
       "      <td>153</td>\n",
       "    </tr>\n",
       "    <tr>\n",
       "      <th>47</th>\n",
       "      <td>veganism</td>\n",
       "      <td>neutral</td>\n",
       "      <td>152</td>\n",
       "    </tr>\n",
       "    <tr>\n",
       "      <th>41</th>\n",
       "      <td>tennis</td>\n",
       "      <td>neutral</td>\n",
       "      <td>149</td>\n",
       "    </tr>\n",
       "    <tr>\n",
       "      <th>26</th>\n",
       "      <td>public speaking</td>\n",
       "      <td>neutral</td>\n",
       "      <td>129</td>\n",
       "    </tr>\n",
       "    <tr>\n",
       "      <th>1</th>\n",
       "      <td>animals</td>\n",
       "      <td>negative</td>\n",
       "      <td>563</td>\n",
       "    </tr>\n",
       "    <tr>\n",
       "      <th>4</th>\n",
       "      <td>cooking</td>\n",
       "      <td>negative</td>\n",
       "      <td>500</td>\n",
       "    </tr>\n",
       "    <tr>\n",
       "      <th>19</th>\n",
       "      <td>food</td>\n",
       "      <td>negative</td>\n",
       "      <td>492</td>\n",
       "    </tr>\n",
       "    <tr>\n",
       "      <th>28</th>\n",
       "      <td>science</td>\n",
       "      <td>negative</td>\n",
       "      <td>491</td>\n",
       "    </tr>\n",
       "    <tr>\n",
       "      <th>43</th>\n",
       "      <td>travel</td>\n",
       "      <td>negative</td>\n",
       "      <td>489</td>\n",
       "    </tr>\n",
       "    <tr>\n",
       "      <th>7</th>\n",
       "      <td>culture</td>\n",
       "      <td>negative</td>\n",
       "      <td>488</td>\n",
       "    </tr>\n",
       "    <tr>\n",
       "      <th>22</th>\n",
       "      <td>healthy eating</td>\n",
       "      <td>negative</td>\n",
       "      <td>477</td>\n",
       "    </tr>\n",
       "    <tr>\n",
       "      <th>37</th>\n",
       "      <td>technology</td>\n",
       "      <td>negative</td>\n",
       "      <td>464</td>\n",
       "    </tr>\n",
       "    <tr>\n",
       "      <th>40</th>\n",
       "      <td>tennis</td>\n",
       "      <td>negative</td>\n",
       "      <td>413</td>\n",
       "    </tr>\n",
       "    <tr>\n",
       "      <th>16</th>\n",
       "      <td>fitness</td>\n",
       "      <td>negative</td>\n",
       "      <td>409</td>\n",
       "    </tr>\n",
       "    <tr>\n",
       "      <th>31</th>\n",
       "      <td>soccer</td>\n",
       "      <td>negative</td>\n",
       "      <td>403</td>\n",
       "    </tr>\n",
       "    <tr>\n",
       "      <th>34</th>\n",
       "      <td>studying</td>\n",
       "      <td>negative</td>\n",
       "      <td>396</td>\n",
       "    </tr>\n",
       "    <tr>\n",
       "      <th>13</th>\n",
       "      <td>education</td>\n",
       "      <td>negative</td>\n",
       "      <td>386</td>\n",
       "    </tr>\n",
       "    <tr>\n",
       "      <th>10</th>\n",
       "      <td>dogs</td>\n",
       "      <td>negative</td>\n",
       "      <td>371</td>\n",
       "    </tr>\n",
       "    <tr>\n",
       "      <th>46</th>\n",
       "      <td>veganism</td>\n",
       "      <td>negative</td>\n",
       "      <td>355</td>\n",
       "    </tr>\n",
       "    <tr>\n",
       "      <th>25</th>\n",
       "      <td>public speaking</td>\n",
       "      <td>negative</td>\n",
       "      <td>326</td>\n",
       "    </tr>\n",
       "  </tbody>\n",
       "</table>\n",
       "</div>"
      ],
      "text/plain": [
       "           Category Sentiment  Sentiment Total\n",
       "0           animals  positive              960\n",
       "27          science  positive              932\n",
       "21   healthy eating  positive              896\n",
       "36       technology  positive              894\n",
       "18             food  positive              869\n",
       "6           culture  positive              855\n",
       "3           cooking  positive              851\n",
       "42           travel  positive              841\n",
       "12        education  positive              750\n",
       "30           soccer  positive              750\n",
       "15          fitness  positive              721\n",
       "33         studying  positive              697\n",
       "9              dogs  positive              688\n",
       "24  public speaking  positive              659\n",
       "39           tennis  positive              654\n",
       "45         veganism  positive              639\n",
       "29          science   neutral              221\n",
       "2           animals   neutral              210\n",
       "23   healthy eating   neutral              199\n",
       "38       technology   neutral              196\n",
       "8           culture   neutral              195\n",
       "20             food   neutral              191\n",
       "32           soccer   neutral              183\n",
       "44           travel   neutral              177\n",
       "5           cooking   neutral              172\n",
       "14        education   neutral              171\n",
       "11             dogs   neutral              167\n",
       "35         studying   neutral              157\n",
       "17          fitness   neutral              153\n",
       "47         veganism   neutral              152\n",
       "41           tennis   neutral              149\n",
       "26  public speaking   neutral              129\n",
       "1           animals  negative              563\n",
       "4           cooking  negative              500\n",
       "19             food  negative              492\n",
       "28          science  negative              491\n",
       "43           travel  negative              489\n",
       "7           culture  negative              488\n",
       "22   healthy eating  negative              477\n",
       "37       technology  negative              464\n",
       "40           tennis  negative              413\n",
       "16          fitness  negative              409\n",
       "31           soccer  negative              403\n",
       "34         studying  negative              396\n",
       "13        education  negative              386\n",
       "10             dogs  negative              371\n",
       "46         veganism  negative              355\n",
       "25  public speaking  negative              326"
      ]
     },
     "execution_count": 53,
     "metadata": {},
     "output_type": "execute_result"
    }
   ],
   "source": [
    "categories =pd.DataFrame(final_df.groupby('Category')['Sentiment'].value_counts()).rename(columns={'Sentiment': 'Sentiment Total'}).reset_index().sort_values(['Sentiment', 'Sentiment Total'], ascending=False)\n",
    "categories"
   ]
  },
  {
   "cell_type": "code",
   "execution_count": 48,
   "id": "4655380f",
   "metadata": {},
   "outputs": [
    {
     "data": {
      "image/png": "[encoded data removed]",
      "text/plain": [
       "<Figure size 1296x936 with 1 Axes>"
      ]
     },
     "metadata": {
      "needs_background": "light"
     },
     "output_type": "display_data"
    }
   ],
   "source": [
    "negative_sentiment_scores = categories[categories['Sentiment'] == 'negative']\n",
    "negative_sentiment_scores[['Category', 'Sentiment Total']].set_index('Category').plot(kind='bar', figsize=(18, 13))\n",
    "\n",
    "plt.title('Total Negative Sentiment')\n",
    "plt.xlabel('Categories')\n",
    "plt.ylabel('Total Sentiment')\n",
    "\n",
    "plt.show()"
   ]
  },
  {
   "cell_type": "code",
   "execution_count": 49,
   "id": "3e15c0f1",
   "metadata": {},
   "outputs": [
    {
     "data": {
      "image/png": "[encoded data removed]",
      "text/plain": [
       "<Figure size 1296x936 with 1 Axes>"
      ]
     },
     "metadata": {
      "needs_background": "light"
     },
     "output_type": "display_data"
    }
   ],
   "source": [
    "positive_sentiment_scores = categories[categories['Sentiment'] == 'positive']\n",
    "positive_sentiment_scores[['Category', 'Sentiment Total']].set_index('Category').plot(kind='bar', figsize=(18, 13))\n",
    "\n",
    "plt.title('Total Positive Sentiment')\n",
    "plt.xlabel('Categories')\n",
    "plt.ylabel('Total Sentiment')\n",
    "\n",
    "plt.show()"
   ]
  },
  {
   "cell_type": "code",
   "execution_count": 50,
   "id": "710b073f",
   "metadata": {},
   "outputs": [
    {
     "data": {
      "image/png": "[encoded data removed]",
      "text/plain": [
       "<Figure size 1296x936 with 1 Axes>"
      ]
     },
     "metadata": {
      "needs_background": "light"
     },
     "output_type": "display_data"
    }
   ],
   "source": [
    "neutral_sentiment_scores = categories[categories['Sentiment'] == 'neutral']\n",
    "neutral_sentiment_scores[['Category', 'Sentiment Total']].set_index('Category').plot(kind='bar', figsize=(18, 13))\n",
    "\n",
    "plt.title('Total Neutral Sentiment')\n",
    "plt.xlabel('Categories')\n",
    "plt.ylabel('Total Sentiment')\n",
    "\n",
    "plt.show()"
   ]
  },
  {
   "cell_type": "code",
   "execution_count": 51,
   "id": "2e7cf678",
   "metadata": {},
   "outputs": [
    {
     "data": {
      "image/png": "[encoded data removed]",
      "text/plain": [
       "<Figure size 1656x936 with 1 Axes>"
      ]
     },
     "metadata": {
      "needs_background": "light"
     },
     "output_type": "display_data"
    }
   ],
   "source": [
    "total_sentiment = pd.DataFrame(final_df.groupby('Category')['Sentiment'].value_counts()).rename(columns={'Sentiment': 'Sentiments'})\n",
    "\n",
    "temp = total_sentiment.unstack()\n",
    "temp['Total'] = temp.sum(axis=1)\n",
    "temp.sort_values(by='Total', ascending=False, inplace=True)\n",
    "temp.drop('Total', axis=1, inplace=True)\n",
    "\n",
    "temp.plot(kind='bar', stacked=True, figsize=(23,13))\n",
    "\n",
    "plt.title('Total Sentiment')\n",
    "plt.xlabel('Categories')\n",
    "plt.ylabel('Total Sentiment')\n",
    "\n",
    "plt.show()"
   ]
  },
  {
   "cell_type": "code",
   "execution_count": null,
   "id": "aa800f11",
   "metadata": {},
   "outputs": [],
   "source": []
  }
 ],
 "metadata": {
  "kernelspec": {
   "display_name": "Python 3 (ipykernel)",
   "language": "python",
   "name": "python3"
  },
  "language_info": {
   "codemirror_mode": {
    "name": "ipython",
    "version": 3
   },
   "file_extension": ".py",
   "mimetype": "text/x-python",
   "name": "python",
   "nbconvert_exporter": "python",
   "pygments_lexer": "ipython3",
   "version": "3.9.12"
  }
 },
 "nbformat": 4,
 "nbformat_minor": 5
}
